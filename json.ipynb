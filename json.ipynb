{
 "cells": [
  {
   "cell_type": "markdown",
   "metadata": {},
   "source": [
    "Using data file `sample-data.json`, create output that resembles the following by parsing the included JSON file.\n",
    "\n",
    "```\n",
    "Interface Status\n",
    "================================================================================\n",
    "DN                                                 Description           Speed    MTU  \n",
    "-------------------------------------------------- --------------------  ------  ------\n",
    "topology/pod-1/node-201/sys/phys-[eth1/33]                              inherit   9150 \n",
    "topology/pod-1/node-201/sys/phys-[eth1/34]                              inherit   9150 \n",
    "topology/pod-1/node-201/sys/phys-[eth1/35]                              inherit   9150 \n",
    "```"
   ]
  },
  {
   "cell_type": "code",
   "execution_count": 1,
   "metadata": {},
   "outputs": [
    {
     "name": "stdout",
     "output_type": "stream",
     "text": [
      "==========================================================================================\n",
      "dn                                                 descr                speed      mtu       \n",
      "--------------------------------------------------------------------------------\n",
      "topology/pod-1/node-201/sys/phys-[eth1/33]                              inherit    9150      \n",
      "topology/pod-1/node-201/sys/phys-[eth1/34]                              inherit    9150      \n",
      "topology/pod-1/node-201/sys/phys-[eth1/35]                              inherit    9150      \n",
      "topology/pod-1/node-201/sys/phys-[eth1/36]                              inherit    9150      \n",
      "topology/pod-1/node-201/sys/phys-[eth1/1]                               inherit    9150      \n",
      "topology/pod-1/node-201/sys/phys-[eth1/2]                               inherit    9150      \n",
      "topology/pod-1/node-201/sys/phys-[eth1/3]                               inherit    9150      \n",
      "topology/pod-1/node-201/sys/phys-[eth1/4]                               inherit    9150      \n",
      "topology/pod-1/node-201/sys/phys-[eth1/5]                               inherit    9150      \n",
      "topology/pod-1/node-201/sys/phys-[eth1/6]                               inherit    9150      \n",
      "topology/pod-1/node-201/sys/phys-[eth1/7]                               inherit    9150      \n",
      "topology/pod-1/node-201/sys/phys-[eth1/8]                               inherit    9150      \n",
      "topology/pod-1/node-201/sys/phys-[eth1/9]                               inherit    9150      \n",
      "topology/pod-1/node-201/sys/phys-[eth1/10]                              inherit    9150      \n",
      "topology/pod-1/node-201/sys/phys-[eth1/11]                              inherit    9150      \n",
      "topology/pod-1/node-201/sys/phys-[eth1/12]                              inherit    9150      \n",
      "topology/pod-1/node-201/sys/phys-[eth1/13]                              inherit    9150      \n",
      "topology/pod-1/node-201/sys/phys-[eth1/14]                              inherit    9150      \n"
     ]
    }
   ],
   "source": [
    "import json\n",
    "\n",
    "with open('json/sample_data.json', 'r') as file:\n",
    "    data = json.load(file)\n",
    "\n",
    "imdata = data[\"imdata\"]\n",
    "headers = [\"dn\", \"descr\", \"speed\", \"mtu\"]\n",
    "print(\"=\" * 90)\n",
    "print(f\"{headers[0]:<50} {headers[1]:<20} {headers[2]:<10} {headers[3]:<10}\")\n",
    "print(\"-\" * 80)\n",
    "for item in imdata:\n",
    "    attributes = item['l1PhysIf']['attributes']\n",
    "    dn = attributes.get(\"dn\")\n",
    "    descr = attributes.get(\"descr\")\n",
    "    speed = attributes.get(\"speed\")\n",
    "    mtu = attributes.get(\"mtu\")\n",
    "\n",
    "    print(f\"{dn:<50} {descr:<20} {speed:<10} {mtu:<10}\")\n",
    "    \n",
    "    \n",
    "    \n",
    "\n"
   ]
  },
  {
   "cell_type": "markdown",
   "metadata": {},
   "source": [
    "headers = [\"dn\", \"descr\", \"speed\", \"mtu\"]\n",
    "print(\"=\" * 80)\n",
    "print(f\"{headers[0]:<50} {headers[1]:<20} {headers[2]:<10} {headers[3]:<10}\")\n",
    "print(\"-\" * 80)\n",
    "for row in imdata:\n",
    "    print(f\"{row[0]:<50} {row[1]:<20} {row[2]:<10} {row[3]:<10}\")"
   ]
  }
 ],
 "metadata": {
  "kernelspec": {
   "display_name": "base",
   "language": "python",
   "name": "python3"
  },
  "language_info": {
   "codemirror_mode": {
    "name": "ipython",
    "version": 3
   },
   "file_extension": ".py",
   "mimetype": "text/x-python",
   "name": "python",
   "nbconvert_exporter": "python",
   "pygments_lexer": "ipython3",
   "version": "3.12.7"
  }
 },
 "nbformat": 4,
 "nbformat_minor": 2
}
