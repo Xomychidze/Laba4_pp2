{
 "cells": [
  {
   "cell_type": "markdown",
   "metadata": {},
   "source": [
    "1. Write a Python program to convert degree to radian.\n",
    "```\n",
    "Input degree: 15\n",
    "Output radian: 0.261904\n",
    "```\n"
   ]
  },
  {
   "cell_type": "code",
   "execution_count": null,
   "metadata": {},
   "outputs": [
    {
     "name": "stdout",
     "output_type": "stream",
     "text": [
      "Output radian: 0.261799\n"
     ]
    }
   ],
   "source": [
    "import math\n",
    "\n",
    "degree = float(input(\"Input degree: \"))\n",
    "\n",
    "radian = math.radians(degree) \n",
    "  \n",
    "print(f\"Output radian: {radian:.6f}\")\n"
   ]
  },
  {
   "cell_type": "markdown",
   "metadata": {},
   "source": [
    "2. Write a Python program to calculate the area of a trapezoid.\n",
    "```\n",
    "Height: 5\n",
    "Base, first value: 5\n",
    "Base, second value: 6\n",
    "Expected Output: 27.5\n",
    "```"
   ]
  },
  {
   "cell_type": "code",
   "execution_count": 3,
   "metadata": {},
   "outputs": [
    {
     "name": "stdout",
     "output_type": "stream",
     "text": [
      "Expected Output: 27.5\n"
     ]
    }
   ],
   "source": [
    "height = float(input(\"Height: \"))\n",
    "base1 = float(input(\"Base, first value: \"))\n",
    "base2 = float(input(\"Base, second value: \"))\n",
    "\n",
    "# Calculate the area of the trapezoid\n",
    "area = (base1 + base2) * height / 2\n",
    "\n",
    "# Output result\n",
    "print(f\"Expected Output: {area}\")\n"
   ]
  },
  {
   "cell_type": "markdown",
   "metadata": {},
   "source": [
    "\n",
    "3. Write a Python program to calculate the area of regular polygon.\n",
    "```\n",
    "Input number of sides: 4\n",
    "Input the length of a side: 25\n",
    "The area of the polygon is: 625\n",
    "```"
   ]
  },
  {
   "cell_type": "code",
   "execution_count": 4,
   "metadata": {},
   "outputs": [
    {
     "name": "stdout",
     "output_type": "stream",
     "text": [
      "The area of the polygon is: 625.0000000000001\n"
     ]
    }
   ],
   "source": [
    "\n",
    "sides = int(input(\"Input number of sides: \"))\n",
    "side_length = float(input(\"Input the length of a side: \"))\n",
    "\n",
    "area = (sides * side_length ** 2) / (4 * math.tan(math.pi / sides))\n",
    "\n",
    "print(f\"The area of the polygon is: {area}\")\n"
   ]
  },
  {
   "cell_type": "markdown",
   "metadata": {},
   "source": [
    "4. Write a Python program to calculate the area of a parallelogram. \n",
    "```\n",
    "Length of base: 5\n",
    "Height of parallelogram: 6\n",
    "Expected Output: 30.0\n",
    "```"
   ]
  },
  {
   "cell_type": "code",
   "execution_count": 5,
   "metadata": {},
   "outputs": [
    {
     "name": "stdout",
     "output_type": "stream",
     "text": [
      "Expected Output: 30.0\n"
     ]
    }
   ],
   "source": [
    "\n",
    "base = float(input(\"Length of base: \"))\n",
    "height = float(input(\"Height of parallelogram: \"))\n",
    "\n",
    "\n",
    "area = base * height\n",
    "\n",
    "\n",
    "print(f\"Expected Output: {area}\")\n"
   ]
  }
 ],
 "metadata": {
  "kernelspec": {
   "display_name": "base",
   "language": "python",
   "name": "python3"
  },
  "language_info": {
   "codemirror_mode": {
    "name": "ipython",
    "version": 3
   },
   "file_extension": ".py",
   "mimetype": "text/x-python",
   "name": "python",
   "nbconvert_exporter": "python",
   "pygments_lexer": "ipython3",
   "version": "3.12.7"
  }
 },
 "nbformat": 4,
 "nbformat_minor": 2
}
