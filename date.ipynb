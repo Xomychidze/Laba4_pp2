{
 "cells": [
  {
   "cell_type": "markdown",
   "metadata": {},
   "source": [
    "1. Write a Python program to subtract five days from current date."
   ]
  },
  {
   "cell_type": "code",
   "execution_count": null,
   "metadata": {},
   "outputs": [
    {
     "name": "stdout",
     "output_type": "stream",
     "text": [
      "02/07/25\n",
      "now day - 5 day: 2\n"
     ]
    }
   ],
   "source": [
    "import datetime\n",
    "x = datetime.datetime.now()\n",
    "\n",
    "print(x.strftime(\"%x\")) \n",
    "\n",
    "now_day = int(x.strftime(\"%d\"))\n",
    "\n",
    "print(f'now day - 5 day: {now_day - 5}')"
   ]
  },
  {
   "cell_type": "markdown",
   "metadata": {},
   "source": [
    "2. Write a Python program to print yesterday, today, tomorrow."
   ]
  },
  {
   "cell_type": "code",
   "execution_count": 53,
   "metadata": {},
   "outputs": [
    {
     "name": "stdout",
     "output_type": "stream",
     "text": [
      "today: 02/06/25\n",
      "yesterday: 02/05/25\n",
      "tomorrow: 02/07/25\n"
     ]
    }
   ],
   "source": [
    "import datetime\n",
    "\n",
    "class Time:\n",
    "    def __init__(self):\n",
    "        pass\n",
    "\n",
    "    def today(self):\n",
    "        print(f\"today: {datetime.datetime.now().strftime('%x')}\")  \n",
    "\n",
    "    def yesterday(self):\n",
    "        y_time = datetime.datetime.now() - datetime.timedelta(days=1)\n",
    "        print(f\"yesterday: {y_time.strftime('%x')}\")  \n",
    "\n",
    "    def tomorrow(self):\n",
    "        t_time = datetime.datetime.now() + datetime.timedelta(days=1)\n",
    "        print(f\"tomorrow: {t_time.strftime('%x')}\")  \n",
    "\n",
    "time = Time()\n",
    "\n",
    "time.today()\n",
    "time.yesterday()\n",
    "time.tomorrow()\n"
   ]
  },
  {
   "cell_type": "markdown",
   "metadata": {},
   "source": [
    "3. Write a Python program to drop microseconds from datetime."
   ]
  },
  {
   "cell_type": "code",
   "execution_count": 54,
   "metadata": {},
   "outputs": [
    {
     "name": "stdout",
     "output_type": "stream",
     "text": [
      "365931\n"
     ]
    }
   ],
   "source": [
    "today = datetime.datetime.now()\n",
    "print(today.strftime(\"%f\"))"
   ]
  },
  {
   "cell_type": "markdown",
   "metadata": {},
   "source": [
    "4. Write a Python program to calculate two date difference in seconds."
   ]
  },
  {
   "cell_type": "code",
   "execution_count": 55,
   "metadata": {},
   "outputs": [
    {
     "name": "stdout",
     "output_type": "stream",
     "text": [
      "1413072000.0\n"
     ]
    }
   ],
   "source": [
    "\n",
    "time1 = datetime.datetime(2025, 12, 12)\n",
    "time2 = datetime.datetime(1981, 3, 3)\n",
    "\n",
    "# Разница между датами\n",
    "time_diff = (time1 - time2).total_seconds()\n",
    "\n",
    "print(time_diff)"
   ]
  }
 ],
 "metadata": {
  "kernelspec": {
   "display_name": "base",
   "language": "python",
   "name": "python3"
  },
  "language_info": {
   "codemirror_mode": {
    "name": "ipython",
    "version": 3
   },
   "file_extension": ".py",
   "mimetype": "text/x-python",
   "name": "python",
   "nbconvert_exporter": "python",
   "pygments_lexer": "ipython3",
   "version": "3.12.7"
  }
 },
 "nbformat": 4,
 "nbformat_minor": 2
}
