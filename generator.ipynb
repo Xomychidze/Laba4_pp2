{
 "cells": [
  {
   "cell_type": "markdown",
   "metadata": {},
   "source": [
    "1. Create a generator that generates the squares of numbers up to some number `N`.\n"
   ]
  },
  {
   "cell_type": "code",
   "execution_count": 5,
   "metadata": {},
   "outputs": [
    {
     "name": "stdout",
     "output_type": "stream",
     "text": [
      "1\n",
      "4\n",
      "9\n",
      "16\n",
      "25\n",
      "36\n",
      "49\n",
      "64\n",
      "81\n",
      "100\n",
      "121\n",
      "144\n",
      "169\n",
      "196\n",
      "225\n",
      "256\n",
      "289\n",
      "324\n",
      "361\n",
      "400\n"
     ]
    }
   ],
   "source": [
    "def square_generator(n):\n",
    "  for i in range(1, n + 1):\n",
    "    yield i ** 2\n",
    "\n",
    "n = int(input())\n",
    "\n",
    "for square in square_generator(n):\n",
    "    print(square)"
   ]
  },
  {
   "cell_type": "markdown",
   "metadata": {},
   "source": [
    "2. Write a program using generator to print the even numbers between 0 and `n` in comma separated form where `n` is input from console.\n"
   ]
  },
  {
   "cell_type": "code",
   "execution_count": 6,
   "metadata": {},
   "outputs": [
    {
     "name": "stdout",
     "output_type": "stream",
     "text": [
      "0, 2, 4, 6, 8, 10, 12, 14, 16, 18\n"
     ]
    }
   ],
   "source": [
    "def even_nums(n):\n",
    "  for i in range(0, n):\n",
    "    if i % 2 == 0:\n",
    "      yield i\n",
    "\n",
    "n = int(input())\n",
    "\n",
    "evens = list(even_nums(n))   \n",
    "print(\", \".join(map(str, evens)))"
   ]
  },
  {
   "cell_type": "markdown",
   "metadata": {},
   "source": [
    "3. Define a function with a generator which can iterate the numbers, which are divisible by 3 and 4, between a given range 0 and `n`.\n"
   ]
  },
  {
   "cell_type": "code",
   "execution_count": 7,
   "metadata": {},
   "outputs": [
    {
     "name": "stdout",
     "output_type": "stream",
     "text": [
      "0\n",
      "12\n"
     ]
    }
   ],
   "source": [
    "def print_nums(n):\n",
    "  for i in range(0, n):\n",
    "    if (i % 3 == 0) and (i % 4 == 0):\n",
    "      yield i\n",
    "\n",
    "n = int(input())\n",
    "\n",
    "for num in print_nums(n):\n",
    "  print(num)"
   ]
  },
  {
   "cell_type": "markdown",
   "metadata": {},
   "source": [
    "4. Implement a generator called `squares` to yield the square of all numbers from (a) to (b). Test it with a \"for\" loop and print each of the yielded values.\n"
   ]
  },
  {
   "cell_type": "code",
   "execution_count": 8,
   "metadata": {},
   "outputs": [
    {
     "name": "stdout",
     "output_type": "stream",
     "text": [
      "400\n",
      "420\n",
      "440\n",
      "460\n",
      "480\n",
      "500\n",
      "520\n",
      "540\n",
      "560\n",
      "580\n",
      "600\n",
      "620\n",
      "640\n",
      "660\n",
      "680\n",
      "700\n",
      "720\n",
      "740\n",
      "760\n",
      "441\n",
      "462\n",
      "483\n",
      "504\n",
      "525\n",
      "546\n",
      "567\n",
      "588\n",
      "609\n",
      "630\n",
      "651\n",
      "672\n",
      "693\n",
      "714\n",
      "735\n",
      "756\n",
      "777\n",
      "484\n",
      "506\n",
      "528\n",
      "550\n",
      "572\n",
      "594\n",
      "616\n",
      "638\n",
      "660\n",
      "682\n",
      "704\n",
      "726\n",
      "748\n",
      "770\n",
      "792\n",
      "529\n",
      "552\n",
      "575\n",
      "598\n",
      "621\n",
      "644\n",
      "667\n",
      "690\n",
      "713\n",
      "736\n",
      "759\n",
      "782\n",
      "805\n",
      "576\n",
      "600\n",
      "624\n",
      "648\n",
      "672\n",
      "696\n",
      "720\n",
      "744\n",
      "768\n",
      "792\n",
      "816\n",
      "625\n",
      "650\n",
      "675\n",
      "700\n",
      "725\n",
      "750\n",
      "775\n",
      "800\n",
      "825\n",
      "676\n",
      "702\n",
      "728\n",
      "754\n",
      "780\n",
      "806\n",
      "832\n",
      "729\n",
      "756\n",
      "783\n",
      "810\n",
      "837\n",
      "784\n",
      "812\n",
      "840\n",
      "841\n"
     ]
    }
   ],
   "source": [
    "def mul_nums(a,b):\n",
    "  for a in range(a, b):\n",
    "    for b in range(a,b): \n",
    "      yield a * b\n",
    "\n",
    "a,b = int(input()), int(input())\n",
    "\n",
    "for num in mul_nums(a,b):\n",
    "  print(num)"
   ]
  },
  {
   "cell_type": "markdown",
   "metadata": {},
   "source": [
    "5. Implement a generator that returns all numbers from (n) down to 0.\n"
   ]
  },
  {
   "cell_type": "code",
   "execution_count": 9,
   "metadata": {},
   "outputs": [
    {
     "name": "stdout",
     "output_type": "stream",
     "text": [
      "20\n",
      "19\n",
      "18\n",
      "17\n",
      "16\n",
      "15\n",
      "14\n",
      "13\n",
      "12\n",
      "11\n",
      "10\n",
      "9\n",
      "8\n",
      "7\n",
      "6\n",
      "5\n",
      "4\n",
      "3\n",
      "2\n",
      "1\n"
     ]
    }
   ],
   "source": [
    "def rev_nums(n):\n",
    "  for i in range(n, 0, -1):\n",
    "      yield i\n",
    "\n",
    "n = int(input())\n",
    "\n",
    "for num in rev_nums(n):\n",
    "  print(num)"
   ]
  }
 ],
 "metadata": {
  "kernelspec": {
   "display_name": "Python 3",
   "language": "python",
   "name": "python3"
  },
  "language_info": {
   "codemirror_mode": {
    "name": "ipython",
    "version": 3
   },
   "file_extension": ".py",
   "mimetype": "text/x-python",
   "name": "python",
   "nbconvert_exporter": "python",
   "pygments_lexer": "ipython3",
   "version": "3.13.2"
  }
 },
 "nbformat": 4,
 "nbformat_minor": 2
}
